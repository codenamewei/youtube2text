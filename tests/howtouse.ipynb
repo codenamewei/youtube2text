{
 "cells": [
  {
   "cell_type": "code",
   "execution_count": 1,
   "metadata": {},
   "outputs": [],
   "source": [
    "from youtube2text import Youtube2Text"
   ]
  },
  {
   "cell_type": "code",
   "execution_count": 2,
   "metadata": {},
   "outputs": [
    {
     "name": "stdout",
     "output_type": "stream",
     "text": [
      "2022-01-02 01:18:02 | INFO | [youtube2text.py:38] Youtube2Text content file saved at path C:\\Users\\codenamewei\\youtube2text\n",
      "2022-01-02 01:18:02 | INFO | [youtube2text.py:66] File: 2022Jan02_011802.wav not exists. Start downloading\n",
      "2022-01-02 01:18:05 | INFO | [youtube2text.py:125] Wav -> Text: 2022Jan02_011802.wav\n",
      "2022-01-02 01:19:13 | INFO | [youtube2text.py:114] Output text file saved at C:\\Users\\codenamewei\\youtube2text\\text\\2022Jan02_011802.csv\n",
      "2022-01-02 01:19:13 | INFO | [youtube2text.py:66] File: 2022Jan02_011913.wav not exists. Start downloading\n",
      "2022-01-02 01:19:16 | INFO | [youtube2text.py:125] Wav -> Text: 2022Jan02_011913.wav\n",
      "2022-01-02 01:19:33 | INFO | [youtube2text.py:114] Output text file saved at C:\\Users\\codenamewei\\youtube2text\\text\\2022Jan02_011913.csv\n"
     ]
    }
   ],
   "source": [
    "urls = [\n",
    "  \"https://www.youtube.com/watch?v=Ad9Q8rM0Am0&t=114s\", \n",
    "  \"https://www.youtube.com/watch?v=3-wKCBA0h1Y\"\n",
    "]\n",
    "\n",
    "converter = Youtube2Text()\n",
    "\n",
    "for url in urls:\n",
    "\n",
    "    converter.url2text(urlpath = url)"
   ]
  }
 ],
 "metadata": {
  "interpreter": {
   "hash": "36618adacc0c0654d29059fc1878dc7c9d73d0e7eebbf22d340032173419ac28"
  },
  "kernelspec": {
   "display_name": "Python 3.9.7 64-bit ('nlp-meeting': conda)",
   "language": "python",
   "name": "python3"
  },
  "language_info": {
   "codemirror_mode": {
    "name": "ipython",
    "version": 3
   },
   "file_extension": ".py",
   "mimetype": "text/x-python",
   "name": "python",
   "nbconvert_exporter": "python",
   "pygments_lexer": "ipython3",
   "version": "3.9.7"
  },
  "orig_nbformat": 4
 },
 "nbformat": 4,
 "nbformat_minor": 2
}
