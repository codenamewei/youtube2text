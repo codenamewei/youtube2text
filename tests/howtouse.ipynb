{
 "cells": [
  {
   "cell_type": "code",
   "execution_count": 1,
   "metadata": {},
   "outputs": [
    {
     "name": "stdout",
     "output_type": "stream",
     "text": [
      "2022-03-24 23:04:26 | INFO | [youtube2text.py:40] Youtube2Text content file saved at path C:\\Users\\codenamewei\\youtube2text\n"
     ]
    }
   ],
   "source": [
    "# import sys\n",
    "    \n",
    "# sys.path.append(\"../src\")\n",
    "\n",
    "from youtube2text import Youtube2Text\n",
    "\n",
    "converter = Youtube2Text(r\"C:\\Users\\codenamewei\\Downloads\\temp\")"
   ]
  },
  {
   "cell_type": "code",
   "execution_count": 2,
   "metadata": {},
   "outputs": [
    {
     "name": "stdout",
     "output_type": "stream",
     "text": [
      "2022-03-24 23:04:39 | INFO | [youtube2text.py:155] Audio at sample rate 16000\n",
      "2022-03-24 23:04:41 | INFO | [youtube2text.py:167] Download completed at C:\\Users\\codenamewei\\youtube2text\\audio\\2022Mar24_230437.flac\n"
     ]
    }
   ],
   "source": [
    "converter.url2audio(urlpath = \"https://www.youtube.com/watch?v=rFYcvrKkr90\")"
   ]
  },
  {
   "cell_type": "markdown",
   "metadata": {},
   "source": [
    "### Select output folder during youtube url -> text"
   ]
  },
  {
   "cell_type": "code",
   "execution_count": 3,
   "metadata": {},
   "outputs": [
    {
     "name": "stdout",
     "output_type": "stream",
     "text": [
      "2022-03-24 22:23:33 | INFO | [youtube2text.py:167] Download completed at C:\\Users\\codenamewei\\Downloads\\temp\\audio\\sample.flac\n",
      "2022-03-24 22:23:33 | INFO | [youtube2text.py:250] Loading default audio2text mode\n",
      "2022-03-24 22:23:33 | INFO | [youtube2text.py:258] Audio -> Text: C:\\Users\\codenamewei\\Downloads\\temp\\audio\\sample.flac\n",
      "2022-03-24 22:24:40 | INFO | [youtube2text.py:232] Output text file saved at C:\\Users\\codenamewei\\Downloads\\temp\\text\\sample.csv\n"
     ]
    }
   ],
   "source": [
    "converter.url2text(urlpath = \"https://www.youtube.com/watch?v=Ad9Q8rM0Am0&t=114s\", outfile = \"sample.csv\", audioformat = \"flac\")"
   ]
  },
  {
   "cell_type": "markdown",
   "metadata": {},
   "source": [
    "### youtube to audio"
   ]
  },
  {
   "cell_type": "code",
   "execution_count": 4,
   "metadata": {},
   "outputs": [
    {
     "name": "stdout",
     "output_type": "stream",
     "text": [
      "2022-03-24 22:24:47 | INFO | [youtube2text.py:167] Download completed at C:\\Users\\codenamewei\\Downloads\\simonsinek.flac\n"
     ]
    }
   ],
   "source": [
    "converter.url2audio(urlpath = \"https://www.youtube.com/watch?v=Ad9Q8rM0Am0&t=114s\", audiofile = r\"C:\\Users\\codenamewei\\Downloads\\simonsinek.flac\")"
   ]
  },
  {
   "cell_type": "markdown",
   "metadata": {},
   "source": [
    "### audio to text "
   ]
  },
  {
   "cell_type": "code",
   "execution_count": 5,
   "metadata": {},
   "outputs": [
    {
     "name": "stdout",
     "output_type": "stream",
     "text": [
      "2022-03-24 22:24:47 | INFO | [youtube2text.py:250] Loading default audio2text mode\n",
      "2022-03-24 22:24:47 | INFO | [youtube2text.py:258] Audio -> Text: C:\\Users\\codenamewei\\Downloads\\simonsinek.flac\n",
      "2022-03-24 22:25:51 | INFO | [youtube2text.py:232] Output text file saved at C:\\Users\\codenamewei\\Downloads\\simonsinek.csv\n"
     ]
    }
   ],
   "source": [
    "converter.audio2text(audiofile = r\"C:\\Users\\codenamewei\\Downloads\\simonsinek.flac\", textfile = r\"C:\\Users\\codenamewei\\Downloads\\simonsinek.csv\")"
   ]
  },
  {
   "cell_type": "code",
   "execution_count": 2,
   "metadata": {},
   "outputs": [
    {
     "name": "stdout",
     "output_type": "stream",
     "text": [
      "2022-03-24 22:39:05 | INFO | [youtube2text.py:157] Audio at sample rate 22000\n",
      "2022-03-24 22:39:07 | INFO | [youtube2text.py:169] Download completed at C:\\Users\\codenamewei\\Downloads\\simonsinek_.flac\n"
     ]
    }
   ],
   "source": [
    "converter.url2audio(urlpath = \"https://www.youtube.com/watch?v=Ad9Q8rM0Am0&t=114s\", audiofile = r\"C:\\Users\\codenamewei\\Downloads\\simonsinek_.flac\", audiosamplingrate = 22000)"
   ]
  }
 ],
 "metadata": {
  "interpreter": {
   "hash": "36618adacc0c0654d29059fc1878dc7c9d73d0e7eebbf22d340032173419ac28"
  },
  "kernelspec": {
   "display_name": "Python 3 (ipykernel)",
   "language": "python",
   "name": "python3"
  },
  "language_info": {
   "codemirror_mode": {
    "name": "ipython",
    "version": 3
   },
   "file_extension": ".py",
   "mimetype": "text/x-python",
   "name": "python",
   "nbconvert_exporter": "python",
   "pygments_lexer": "ipython3",
   "version": "3.9.7"
  }
 },
 "nbformat": 4,
 "nbformat_minor": 4
}
