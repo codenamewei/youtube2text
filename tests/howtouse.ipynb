{
 "cells": [
  {
   "cell_type": "code",
   "execution_count": 1,
   "metadata": {},
   "outputs": [
    {
     "ename": "ModuleNotFoundError",
     "evalue": "No module named 'transformers'",
     "output_type": "error",
     "traceback": [
      "\u001b[1;31m---------------------------------------------------------------------------\u001b[0m",
      "\u001b[1;31mModuleNotFoundError\u001b[0m                       Traceback (most recent call last)",
      "\u001b[1;32mC:\\Users\\CODENA~1\\AppData\\Local\\Temp/ipykernel_26680/4096913374.py\u001b[0m in \u001b[0;36m<module>\u001b[1;34m\u001b[0m\n\u001b[0;32m      2\u001b[0m \u001b[1;33m\u001b[0m\u001b[0m\n\u001b[0;32m      3\u001b[0m \u001b[0msys\u001b[0m\u001b[1;33m.\u001b[0m\u001b[0mpath\u001b[0m\u001b[1;33m.\u001b[0m\u001b[0mappend\u001b[0m\u001b[1;33m(\u001b[0m\u001b[1;34m\"../src\"\u001b[0m\u001b[1;33m)\u001b[0m\u001b[1;33m\u001b[0m\u001b[1;33m\u001b[0m\u001b[0m\n\u001b[1;32m----> 4\u001b[1;33m \u001b[1;32mfrom\u001b[0m \u001b[0myoutube2text\u001b[0m \u001b[1;32mimport\u001b[0m \u001b[0mYoutube2Text\u001b[0m\u001b[1;33m\u001b[0m\u001b[1;33m\u001b[0m\u001b[0m\n\u001b[0m\u001b[0;32m      5\u001b[0m \u001b[1;33m\u001b[0m\u001b[0m\n\u001b[0;32m      6\u001b[0m \u001b[0mconverter\u001b[0m \u001b[1;33m=\u001b[0m \u001b[0mYoutube2Text\u001b[0m\u001b[1;33m(\u001b[0m\u001b[1;33m)\u001b[0m\u001b[1;33m\u001b[0m\u001b[1;33m\u001b[0m\u001b[0m\n",
      "\u001b[1;32mc:\\Users\\codenamewei\\Documents\\youtube2text\\tests\\../src\\youtube2text\\__init__.py\u001b[0m in \u001b[0;36m<module>\u001b[1;34m\u001b[0m\n\u001b[1;32m----> 1\u001b[1;33m \u001b[1;32mfrom\u001b[0m \u001b[1;33m.\u001b[0m\u001b[0myoutube2text\u001b[0m \u001b[1;32mimport\u001b[0m \u001b[0mYoutube2Text\u001b[0m\u001b[1;33m\u001b[0m\u001b[1;33m\u001b[0m\u001b[0m\n\u001b[0m",
      "\u001b[1;32mc:\\Users\\codenamewei\\Documents\\youtube2text\\tests\\../src\\youtube2text\\youtube2text.py\u001b[0m in \u001b[0;36m<module>\u001b[1;34m\u001b[0m\n\u001b[0;32m      6\u001b[0m \u001b[1;32mfrom\u001b[0m \u001b[0mpydub\u001b[0m \u001b[1;32mimport\u001b[0m \u001b[0mAudioSegment\u001b[0m\u001b[1;33m\u001b[0m\u001b[1;33m\u001b[0m\u001b[0m\n\u001b[0;32m      7\u001b[0m \u001b[1;32mfrom\u001b[0m \u001b[0mpydub\u001b[0m\u001b[1;33m.\u001b[0m\u001b[0msilence\u001b[0m \u001b[1;32mimport\u001b[0m \u001b[0msplit_on_silence\u001b[0m\u001b[1;33m\u001b[0m\u001b[1;33m\u001b[0m\u001b[0m\n\u001b[1;32m----> 8\u001b[1;33m \u001b[1;32mfrom\u001b[0m \u001b[0mtransformers\u001b[0m \u001b[1;32mimport\u001b[0m \u001b[0mpipeline\u001b[0m\u001b[1;33m\u001b[0m\u001b[1;33m\u001b[0m\u001b[0m\n\u001b[0m\u001b[0;32m      9\u001b[0m \u001b[1;32mfrom\u001b[0m \u001b[0mdatetime\u001b[0m \u001b[1;32mimport\u001b[0m \u001b[0mdatetime\u001b[0m\u001b[1;33m\u001b[0m\u001b[1;33m\u001b[0m\u001b[0m\n\u001b[0;32m     10\u001b[0m \u001b[1;32mimport\u001b[0m \u001b[0mlibrosa\u001b[0m\u001b[1;33m\u001b[0m\u001b[1;33m\u001b[0m\u001b[0m\n",
      "\u001b[1;31mModuleNotFoundError\u001b[0m: No module named 'transformers'"
     ]
    }
   ],
   "source": [
    "import sys\n",
    "\n",
    "sys.path.append(\"../src\")\n",
    "from youtube2text import Youtube2Text\n",
    "\n",
    "converter = Youtube2Text()"
   ]
  },
  {
   "cell_type": "code",
   "execution_count": null,
   "metadata": {},
   "outputs": [
    {
     "name": "stdout",
     "output_type": "stream",
     "text": [
      "2022-01-02 13:18:59 | INFO | [youtube2text.py:97] Audio file not exists. Start downloading\n",
      "2022-01-02 13:19:02 | INFO | [youtube2text.py:113] Download completed\n",
      "2022-01-02 13:19:02 | INFO | [youtube2text.py:165] Wav -> Text: 2022Jan02_131859\n",
      "2022-01-02 13:20:12 | INFO | [youtube2text.py:143] Output text file saved at C:\\Users\\codenamewei\\youtube2text\\text\\2022Jan02_131859.csv\n"
     ]
    }
   ],
   "source": [
    "converter.url2text(urlpath = \"https://www.youtube.com/watch?v=Ad9Q8rM0Am0&t=114s\")"
   ]
  },
  {
   "cell_type": "markdown",
   "metadata": {},
   "source": [
    "### Select output folder during youtube url -> text"
   ]
  },
  {
   "cell_type": "code",
   "execution_count": null,
   "metadata": {},
   "outputs": [
    {
     "ename": "TypeError",
     "evalue": "url2text() got an unexpected keyword argument 'audioformat'",
     "output_type": "error",
     "traceback": [
      "\u001b[1;31m---------------------------------------------------------------------------\u001b[0m",
      "\u001b[1;31mTypeError\u001b[0m                                 Traceback (most recent call last)",
      "\u001b[1;32mC:\\Users\\CODENA~1\\AppData\\Local\\Temp/ipykernel_2856/2658728874.py\u001b[0m in \u001b[0;36m<module>\u001b[1;34m\u001b[0m\n\u001b[1;32m----> 1\u001b[1;33m \u001b[0mconverter\u001b[0m\u001b[1;33m.\u001b[0m\u001b[0murl2text\u001b[0m\u001b[1;33m(\u001b[0m\u001b[0murlpath\u001b[0m \u001b[1;33m=\u001b[0m \u001b[1;34m\"https://www.youtube.com/watch?v=Ad9Q8rM0Am0&t=114s\"\u001b[0m\u001b[1;33m,\u001b[0m \u001b[0moutfilename\u001b[0m \u001b[1;33m=\u001b[0m \u001b[1;34m\"simonsinek.csv\"\u001b[0m\u001b[1;33m,\u001b[0m \u001b[0maudioformat\u001b[0m \u001b[1;33m=\u001b[0m \u001b[1;34m\"flac\"\u001b[0m\u001b[1;33m)\u001b[0m\u001b[1;33m\u001b[0m\u001b[1;33m\u001b[0m\u001b[0m\n\u001b[0m",
      "\u001b[1;31mTypeError\u001b[0m: url2text() got an unexpected keyword argument 'audioformat'"
     ]
    }
   ],
   "source": [
    "converter.url2text(urlpath = \"https://www.youtube.com/watch?v=Ad9Q8rM0Am0&t=114s\", outfile = \"simonsinek.csv\", audioformat = \"flac\")"
   ]
  },
  {
   "cell_type": "markdown",
   "metadata": {},
   "source": [
    "### youtube to audio"
   ]
  },
  {
   "cell_type": "code",
   "execution_count": null,
   "metadata": {},
   "outputs": [
    {
     "name": "stdout",
     "output_type": "stream",
     "text": [
      "2022-01-17 23:48:11 | INFO | [youtube2text.py:93] Audio file exists at C:\\Users\\codenamewei\\Downloads\\simonsinek.flac.wav. Skip downloading\n"
     ]
    }
   ],
   "source": [
    "converter.url2audio(urlpath = \"https://www.youtube.com/watch?v=Ad9Q8rM0Am0&t=114s\", audiofile = \"simonsinek.flac\")"
   ]
  },
  {
   "cell_type": "markdown",
   "metadata": {},
   "source": [
    "### audio to text "
   ]
  },
  {
   "cell_type": "code",
   "execution_count": null,
   "metadata": {},
   "outputs": [
    {
     "name": "stdout",
     "output_type": "stream",
     "text": [
      "2022-01-02 13:59:41 | INFO | [youtube2text.py:165] Wav -> Text: simonsinek\n",
      "2022-01-02 14:00:57 | INFO | [youtube2text.py:143] Output text file saved at C:\\Users\\codenamewei\\youtube2text\\text\\2022Jan02_135941.csv\n"
     ]
    }
   ],
   "source": [
    "\n",
    "converter.audio2text(audiofilename = \"simonsinek.flac\", audiofilepath = r\"C:\\Users\\codenamewei\\Downloads\")"
   ]
  },
  {
   "cell_type": "code",
   "execution_count": null,
   "metadata": {},
   "outputs": [],
   "source": []
  }
 ],
 "metadata": {
  "interpreter": {
   "hash": "36618adacc0c0654d29059fc1878dc7c9d73d0e7eebbf22d340032173419ac28"
  },
  "kernelspec": {
   "display_name": "Python 3.9.7 64-bit ('nlp-meeting': conda)",
   "language": "python",
   "name": "python3"
  },
  "language_info": {
   "codemirror_mode": {
    "name": "ipython",
    "version": 3
   },
   "file_extension": ".py",
   "mimetype": "text/x-python",
   "name": "python",
   "nbconvert_exporter": "python",
   "pygments_lexer": "ipython3",
   "version": "3.9.7"
  },
  "orig_nbformat": 4
 },
 "nbformat": 4,
 "nbformat_minor": 2
}
