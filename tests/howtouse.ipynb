{
 "cells": [
  {
   "cell_type": "code",
   "execution_count": 1,
   "metadata": {},
   "outputs": [
    {
     "name": "stdout",
     "output_type": "stream",
     "text": [
      "2022-01-20 06:33:14 | INFO | [youtube2text.py:43] Youtube2Text content file saved at path C:\\Users\\codenamewei\\youtube2text\n"
     ]
    }
   ],
   "source": [
    "import sys\n",
    "\n",
    "sys.path.append(\"../src\")\n",
    "from youtube2text import Youtube2Text\n",
    "\n",
    "converter = Youtube2Text()"
   ]
  },
  {
   "cell_type": "code",
   "execution_count": 3,
   "metadata": {},
   "outputs": [
    {
     "name": "stdout",
     "output_type": "stream",
     "text": [
      "2022-01-20 06:32:50 | INFO | [youtube2text.py:155] Download completed\n",
      "2022-01-20 06:32:50 | INFO | [youtube2text.py:221] Loading default audio2text mode\n",
      "2022-01-20 06:32:50 | INFO | [youtube2text.py:231] Wav -> Text: 2022Jan20_063246\n"
     ]
    }
   ],
   "source": [
    "converter.url2text(urlpath = \"https://www.youtube.com/watch?v=rFYcvrKkr90\")"
   ]
  },
  {
   "cell_type": "markdown",
   "metadata": {},
   "source": [
    "### Select output folder during youtube url -> text"
   ]
  },
  {
   "cell_type": "code",
   "execution_count": null,
   "metadata": {},
   "outputs": [
    {
     "name": "stdout",
     "output_type": "stream",
     "text": [
      "https://www.youtube.com/watch?v=Ad9Q8rM0Am0&t=114s\n",
      "<Stream: itag=\"17\" mime_type=\"video/3gpp\" res=\"144p\" fps=\"12fps\" vcodec=\"mp4v.20.3\" acodec=\"mp4a.40.2\" progressive=\"True\" type=\"video\">\n",
      "2022-01-20 06:22:07 | INFO | [youtube2text.py:158] Download completed\n",
      "2022-01-20 06:22:07 | INFO | [youtube2text.py:187] C:\\Users\\codenamewei\\youtube2text\\text\\simonsinek.csv exists. Conversion of speech -> text skipped\n"
     ]
    }
   ],
   "source": [
    "converter.url2text(urlpath = \"https://www.youtube.com/watch?v=Ad9Q8rM0Am0&t=114s\", outfile = \"simonsinek.csv\", audioformat = \"wav\")"
   ]
  },
  {
   "cell_type": "markdown",
   "metadata": {},
   "source": [
    "### youtube to audio"
   ]
  },
  {
   "cell_type": "code",
   "execution_count": null,
   "metadata": {},
   "outputs": [
    {
     "name": "stdout",
     "output_type": "stream",
     "text": [
      "https://www.youtube.com/watch?v=Ad9Q8rM0Am0&t=114s\n",
      "<Stream: itag=\"17\" mime_type=\"video/3gpp\" res=\"144p\" fps=\"12fps\" vcodec=\"mp4v.20.3\" acodec=\"mp4a.40.2\" progressive=\"True\" type=\"video\">\n",
      "2022-01-20 06:24:31 | INFO | [youtube2text.py:158] Download completed\n"
     ]
    }
   ],
   "source": [
    "converter.url2audio(urlpath = \"https://www.youtube.com/watch?v=Ad9Q8rM0Am0&t=114s\", audiofile = r\"C:\\Users\\codenamewei\\Downloads\\simonsinek.wav\")"
   ]
  },
  {
   "cell_type": "markdown",
   "metadata": {},
   "source": [
    "### audio to text "
   ]
  },
  {
   "cell_type": "code",
   "execution_count": 2,
   "metadata": {},
   "outputs": [
    {
     "name": "stdout",
     "output_type": "stream",
     "text": [
      "2022-01-20 06:34:16 | INFO | [youtube2text.py:184] C:\\Users\\codenamewei\\Downloads\\simonsinek.csv exists. Conversion of speech -> text skipped\n"
     ]
    }
   ],
   "source": [
    "converter.audio2text(audiofile = r\"C:\\Users\\codenamewei\\Downloads\\simonsinek.wav\", textfile = r\"C:\\Users\\codenamewei\\Downloads\\simonsinek.csv\")"
   ]
  },
  {
   "cell_type": "code",
   "execution_count": null,
   "metadata": {},
   "outputs": [],
   "source": []
  },
  {
   "cell_type": "code",
   "execution_count": null,
   "metadata": {},
   "outputs": [],
   "source": []
  }
 ],
 "metadata": {
  "interpreter": {
   "hash": "36618adacc0c0654d29059fc1878dc7c9d73d0e7eebbf22d340032173419ac28"
  },
  "kernelspec": {
   "display_name": "Python 3 (ipykernel)",
   "language": "python",
   "name": "python3"
  },
  "language_info": {
   "codemirror_mode": {
    "name": "ipython",
    "version": 3
   },
   "file_extension": ".py",
   "mimetype": "text/x-python",
   "name": "python",
   "nbconvert_exporter": "python",
   "pygments_lexer": "ipython3",
   "version": "3.8.5"
  }
 },
 "nbformat": 4,
 "nbformat_minor": 4
}
