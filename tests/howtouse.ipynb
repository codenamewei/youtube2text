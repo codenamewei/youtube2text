{
 "cells": [
  {
   "cell_type": "code",
   "execution_count": 1,
   "metadata": {},
   "outputs": [
    {
     "name": "stdout",
     "output_type": "stream",
     "text": [
      "2022-01-02 13:59:10 | INFO | [youtube2text.py:40] Youtube2Text content file saved at path C:\\Users\\codenamewei\\youtube2text\n"
     ]
    }
   ],
   "source": [
    "from youtube2text import Youtube2Text\n",
    "\n",
    "converter = Youtube2Text()"
   ]
  },
  {
   "cell_type": "code",
   "execution_count": 2,
   "metadata": {},
   "outputs": [
    {
     "name": "stdout",
     "output_type": "stream",
     "text": [
      "2022-01-02 13:18:59 | INFO | [youtube2text.py:97] Audio file not exists. Start downloading\n",
      "2022-01-02 13:19:02 | INFO | [youtube2text.py:113] Download completed\n",
      "2022-01-02 13:19:02 | INFO | [youtube2text.py:165] Wav -> Text: 2022Jan02_131859\n",
      "2022-01-02 13:20:12 | INFO | [youtube2text.py:143] Output text file saved at C:\\Users\\codenamewei\\youtube2text\\text\\2022Jan02_131859.csv\n"
     ]
    }
   ],
   "source": [
    "converter.url2text(urlpath = \"https://www.youtube.com/watch?v=Ad9Q8rM0Am0&t=114s\")"
   ]
  },
  {
   "cell_type": "markdown",
   "metadata": {},
   "source": [
    "### Select output folder during youtube url -> text"
   ]
  },
  {
   "cell_type": "code",
   "execution_count": 3,
   "metadata": {},
   "outputs": [
    {
     "name": "stdout",
     "output_type": "stream",
     "text": [
      "2022-01-02 13:20:12 | INFO | [youtube2text.py:93] Audio file exists at C:\\Users\\codenamewei\\youtube2text\\wav\\simonsinek.wav. Skip downloading\n",
      "2022-01-02 13:20:12 | INFO | [youtube2text.py:135] C:\\Users\\codenamewei\\youtube2text\\text\\simonsinek.csv exists. Conversion of speech -> text skipped\n"
     ]
    }
   ],
   "source": [
    "converter.url2text(urlpath = \"https://www.youtube.com/watch?v=Ad9Q8rM0Am0&t=114s\", outfilename = \"simonsinek\")"
   ]
  },
  {
   "cell_type": "markdown",
   "metadata": {},
   "source": [
    "### youtube to audio"
   ]
  },
  {
   "cell_type": "code",
   "execution_count": 2,
   "metadata": {},
   "outputs": [
    {
     "name": "stdout",
     "output_type": "stream",
     "text": [
      "2022-01-02 13:59:32 | INFO | [youtube2text.py:93] Audio file exists at C:\\Users\\codenamewei\\Downloads\\simonsinek.wav. Skip downloading\n"
     ]
    }
   ],
   "source": [
    "converter.url2audio(urlpath = \"https://www.youtube.com/watch?v=Ad9Q8rM0Am0&t=114s\", audiofilename = \"simonsinek\", audiofilepath = r\"C:\\Users\\codenamewei\\Downloads\")"
   ]
  },
  {
   "cell_type": "markdown",
   "metadata": {},
   "source": [
    "### audio to text "
   ]
  },
  {
   "cell_type": "code",
   "execution_count": 3,
   "metadata": {},
   "outputs": [
    {
     "name": "stdout",
     "output_type": "stream",
     "text": [
      "2022-01-02 13:59:41 | INFO | [youtube2text.py:165] Wav -> Text: simonsinek\n",
      "2022-01-02 14:00:57 | INFO | [youtube2text.py:143] Output text file saved at C:\\Users\\codenamewei\\youtube2text\\text\\2022Jan02_135941.csv\n"
     ]
    }
   ],
   "source": [
    "\n",
    "converter.audio2text(audiofilename = \"simonsinek.wav\", audiofilepath = r\"C:\\Users\\codenamewei\\Downloads\")"
   ]
  },
  {
   "cell_type": "code",
   "execution_count": null,
   "metadata": {},
   "outputs": [],
   "source": []
  }
 ],
 "metadata": {
  "interpreter": {
   "hash": "36618adacc0c0654d29059fc1878dc7c9d73d0e7eebbf22d340032173419ac28"
  },
  "kernelspec": {
   "display_name": "Python 3.9.7 64-bit ('nlp-meeting': conda)",
   "language": "python",
   "name": "python3"
  },
  "language_info": {
   "codemirror_mode": {
    "name": "ipython",
    "version": 3
   },
   "file_extension": ".py",
   "mimetype": "text/x-python",
   "name": "python",
   "nbconvert_exporter": "python",
   "pygments_lexer": "ipython3",
   "version": "3.9.6"
  },
  "orig_nbformat": 4
 },
 "nbformat": 4,
 "nbformat_minor": 2
}
